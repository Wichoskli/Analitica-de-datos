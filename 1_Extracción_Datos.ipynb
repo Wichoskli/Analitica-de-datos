{
  "nbformat": 4,
  "nbformat_minor": 0,
  "metadata": {
    "colab": {
      "provenance": [],
      "authorship_tag": "ABX9TyM6ePcCi5G04JEKUeewi9ht",
      "include_colab_link": true
    },
    "kernelspec": {
      "name": "python3",
      "display_name": "Python 3"
    },
    "language_info": {
      "name": "python"
    }
  },
  "cells": [
    {
      "cell_type": "markdown",
      "metadata": {
        "id": "view-in-github",
        "colab_type": "text"
      },
      "source": [
        "<a href=\"https://colab.research.google.com/github/Wichoskli/Analitica-de-datos/blob/main/1_Extracci%C3%B3n_Datos.ipynb\" target=\"_parent\"><img src=\"https://colab.research.google.com/assets/colab-badge.svg\" alt=\"Open In Colab\"/></a>"
      ]
    },
    {
      "cell_type": "code",
      "execution_count": null,
      "metadata": {
        "id": "-_phOfwa3buY"
      },
      "outputs": [],
      "source": [
        "#Importar librerias\n",
        "import pandas as pd\n",
        "import numpy as np\n",
        "import matplotlib.pyplot as plt\n",
        "import seaborn as sns"
      ]
    },
    {
      "cell_type": "code",
      "source": [
        "#Primer Archivo CSV\n",
        "from google.colab import files\n",
        "files.upload()"
      ],
      "metadata": {
        "id": "jOfESCsi5jGg"
      },
      "execution_count": null,
      "outputs": []
    },
    {
      "cell_type": "code",
      "source": [
        "#Convertir a DataFrame\n",
        "df = pd.read_csv(\"CountryTable.csv\")\n",
        "\n",
        "#df"
      ],
      "metadata": {
        "id": "ZzvxPYZL5jD_"
      },
      "execution_count": null,
      "outputs": []
    },
    {
      "cell_type": "code",
      "source": [
        "#Primeros registros de Df\n",
        "df.head(5)"
      ],
      "metadata": {
        "id": "iDuNtxur5jBm"
      },
      "execution_count": null,
      "outputs": []
    },
    {
      "cell_type": "markdown",
      "source": [
        "Cualitativas"
      ],
      "metadata": {
        "id": "tl2FDLfLBXIG"
      }
    },
    {
      "cell_type": "code",
      "source": [
        "#Filtro por objeto\n",
        "filtro1=df[df[\"continent\"] == \"North America\"]\n",
        "filtro1\n",
        "#Del dataframe seleccionado imprime los registros de la columna \"continent\" los valores que sean \"North America\""
      ],
      "metadata": {
        "id": "GnJv6r1U5h9e"
      },
      "execution_count": null,
      "outputs": []
    },
    {
      "cell_type": "code",
      "source": [
        "#Convertir filtro a CSV\n",
        "filtro1.to_csv(\"Filtro1.csv\")"
      ],
      "metadata": {
        "id": "wKkAulHmBe63"
      },
      "execution_count": null,
      "outputs": []
    },
    {
      "cell_type": "code",
      "source": [
        "#Descargar archivo\n",
        "from google.colab import files\n",
        "\n",
        "files.download(\"Filtro1.csv\")"
      ],
      "metadata": {
        "id": "wOBP1zaKBe4s"
      },
      "execution_count": null,
      "outputs": []
    },
    {
      "cell_type": "code",
      "source": [
        "#Filtro por filas\n",
        "filtro2=df.iloc[[10, 20, 30], :] #Filas no consecutivas\n",
        "filtro2\n",
        "#Del dataframe seleccionado imprime las filas deseadas y todas las columnas disponibles"
      ],
      "metadata": {
        "id": "NFKd9u77Be2T"
      },
      "execution_count": null,
      "outputs": []
    },
    {
      "cell_type": "code",
      "source": [
        "#Convertir filtro a CSV\n",
        "filtro2.to_csv(\"Filtro2.csv\")"
      ],
      "metadata": {
        "id": "LUXi_yKsBe0A"
      },
      "execution_count": null,
      "outputs": []
    },
    {
      "cell_type": "code",
      "source": [
        "#Descargar archivo\n",
        "from google.colab import files\n",
        "\n",
        "files.download(\"Filtro2.csv\")"
      ],
      "metadata": {
        "id": "q9n6kkFoBexZ"
      },
      "execution_count": null,
      "outputs": []
    },
    {
      "cell_type": "code",
      "source": [
        "#Filtro por columnas\n",
        "filtro3=df.iloc[ : , 3:7 ]\n",
        "#filtro3=df.iloc[:,1,4,6] #Columnas no consecutivas\n",
        "filtro3\n",
        "#Del dataframe seleccionado imprime las columnas deseadas en conjunto de toda la información dada por todas las filas"
      ],
      "metadata": {
        "id": "4nEZAY4gBeuf"
      },
      "execution_count": null,
      "outputs": []
    },
    {
      "cell_type": "code",
      "source": [
        "#Convertir filtro a CSV\n",
        "filtro3.to_csv(\"Filtro3.csv\")"
      ],
      "metadata": {
        "id": "RiJOr69MBer1"
      },
      "execution_count": null,
      "outputs": []
    },
    {
      "cell_type": "code",
      "source": [
        "#Descargar archivo\n",
        "from google.colab import files\n",
        "\n",
        "files.download(\"Filtro3.csv\")"
      ],
      "metadata": {
        "id": "8Q8SNDJVBpTp"
      },
      "execution_count": null,
      "outputs": []
    },
    {
      "cell_type": "code",
      "source": [
        "df = pd.read_csv(\"CountryTable.csv\", index_col=2)\n",
        "df\n",
        "#Se define la nueva columna índice (continent)"
      ],
      "metadata": {
        "id": "jYUBxhypBpRg"
      },
      "execution_count": null,
      "outputs": []
    },
    {
      "cell_type": "code",
      "source": [
        "#Paso 2:Filtro de filas vs columnas\n",
        "filtro4=df.loc[[\"Asia\",\"Africa\"],[\"government_form\"]]\n",
        "filtro4\n",
        "#Del dataframe seleccionado imprime unicamente para \"Asia\" y \"Africa\" la información \"government_form\" (Con ayuda de la nueva columna indice)"
      ],
      "metadata": {
        "id": "GS_6M0heBpPT"
      },
      "execution_count": null,
      "outputs": []
    },
    {
      "cell_type": "code",
      "source": [
        "#Convertir filtro a CSV\n",
        "filtro4.to_csv(\"Filtro4.csv\")"
      ],
      "metadata": {
        "id": "hNA6diZ3BpM4"
      },
      "execution_count": null,
      "outputs": []
    },
    {
      "cell_type": "code",
      "source": [
        "#Descargar archivo\n",
        "from google.colab import files\n",
        "\n",
        "files.download(\"Filtro4.csv\")"
      ],
      "metadata": {
        "id": "ZZuKUcL5Beo2"
      },
      "execution_count": null,
      "outputs": []
    },
    {
      "cell_type": "code",
      "source": [
        "#Filtro por cabecera\n",
        "filtro5= df.head(1)\n",
        "filtro5\n",
        "#Del dataframe seleccionado imprime la cantidad de elementos deseados"
      ],
      "metadata": {
        "id": "kaFqdIpnBy1n"
      },
      "execution_count": null,
      "outputs": []
    },
    {
      "cell_type": "code",
      "source": [
        "#Convertir filtro a CSV\n",
        "filtro5.to_csv(\"Filtro5.csv\")"
      ],
      "metadata": {
        "id": "o-zhcPcHByzT"
      },
      "execution_count": null,
      "outputs": []
    },
    {
      "cell_type": "code",
      "source": [
        "#Descargar archivo\n",
        "from google.colab import files\n",
        "\n",
        "files.download(\"Filtro5.csv\")"
      ],
      "metadata": {
        "id": "T-ZxZ_vJBywW"
      },
      "execution_count": null,
      "outputs": []
    },
    {
      "cell_type": "markdown",
      "source": [
        "Cauntitativas"
      ],
      "metadata": {
        "id": "Yx10l_iSB3TR"
      }
    },
    {
      "cell_type": "code",
      "source": [
        "#Filtro por comparación\n",
        "filtro6= df[df[\"independence_year\"]> 1960]\n",
        "filtro6\n",
        "#Del dataframe seleccionado imprime para la columna deseada los valores que sean mayores al año de 1960"
      ],
      "metadata": {
        "id": "ksDaGlLRByuE"
      },
      "execution_count": null,
      "outputs": []
    },
    {
      "cell_type": "code",
      "source": [
        "#Convertir filtro a CSV\n",
        "filtro6.to_csv(\"Filtro6.csv\")"
      ],
      "metadata": {
        "id": "zDnSP_2XByrS"
      },
      "execution_count": null,
      "outputs": []
    },
    {
      "cell_type": "code",
      "source": [
        "#Descargar archivo\n",
        "from google.colab import files\n",
        "\n",
        "files.download(\"Filtro6.csv\")"
      ],
      "metadata": {
        "id": "RinSg9mzByoP"
      },
      "execution_count": null,
      "outputs": []
    },
    {
      "cell_type": "markdown",
      "source": [
        "Logicos"
      ],
      "metadata": {
        "id": "wzz0O0HSB-82"
      }
    },
    {
      "cell_type": "code",
      "source": [
        "#Filtro y\n",
        "filtro7= df[(df[\"independence_year\"]> 1960 ) & (df[\"government_form\"] == \"Republic\")]\n",
        "filtro7\n",
        "#Del dataframe seleccionado imprime una condición a partir de conectores lógicos\n",
        "#Imprime todos los valores de \"Independence_year\" que sean mayores a 2006 y que para \"government_form\" sean unicamente \"Republic\""
      ],
      "metadata": {
        "id": "Jc3FJelwB944"
      },
      "execution_count": null,
      "outputs": []
    },
    {
      "cell_type": "code",
      "source": [
        "#Convertir filtro a CSV\n",
        "filtro7.to_csv(\"Filtro7.csv\")"
      ],
      "metadata": {
        "id": "JbK9mApFB92G"
      },
      "execution_count": null,
      "outputs": []
    },
    {
      "cell_type": "code",
      "source": [
        "#Descargar archivo\n",
        "from google.colab import files\n",
        "\n",
        "files.download(\"Filtro7.csv\")"
      ],
      "metadata": {
        "id": "2AKbwYmcB9y0"
      },
      "execution_count": null,
      "outputs": []
    },
    {
      "cell_type": "code",
      "source": [
        "#Filtro o\n",
        "filtro8= df[(df[\"independence_year\"]> 1960 ) | (df[\"government_form\"] == \"Republic\")]\n",
        "filtro8\n",
        "#Del dataframe seleccionado puede imprimir dos conjuntos de datos pero alguno de ellos debe cumplir las condiciones\n",
        "#Imprime todos los valores de \"Independence_year\" que sean mayores a 1960 o que para \"government_form\" sean unicamente \"Republic\" o las dos"
      ],
      "metadata": {
        "id": "FYMy-0ZeB9ua"
      },
      "execution_count": null,
      "outputs": []
    },
    {
      "cell_type": "code",
      "source": [
        "#Convertir filtro a CSV\n",
        "filtro8.to_csv(\"Filtro8.csv\")"
      ],
      "metadata": {
        "id": "BqwL1VGHB9lr"
      },
      "execution_count": null,
      "outputs": []
    },
    {
      "cell_type": "code",
      "source": [
        "#Descargar archivo\n",
        "from google.colab import files\n",
        "\n",
        "files.download(\"Filtro8.csv\")"
      ],
      "metadata": {
        "id": "eRdO_kbvCG0w"
      },
      "execution_count": null,
      "outputs": []
    },
    {
      "cell_type": "code",
      "source": [
        "#Filtro not\n",
        "filtro9= df[~(df[\"independence_year\"]>= 2006 ) & ~(df[\"government_form\"] == \"Republic\")]\n",
        "filtro9\n",
        "#Del dataframe seleccionado imprime un conjunto de datos a partir de la condición de evitar registros específicos\n",
        "#Imprime todos los valores de \"Independence_year\" que no sean mayores a 1960 y que para \"government_form\" no sea \"Republic\""
      ],
      "metadata": {
        "id": "RDh283sUCGxy"
      },
      "execution_count": null,
      "outputs": []
    },
    {
      "cell_type": "code",
      "source": [
        "#Convertir filtro a CSV\n",
        "filtro9.to_csv(\"Filtro9.csv\")"
      ],
      "metadata": {
        "id": "uzS4yFLQCGvH"
      },
      "execution_count": null,
      "outputs": []
    },
    {
      "cell_type": "code",
      "source": [
        "#Descargar archivo\n",
        "from google.colab import files\n",
        "\n",
        "files.download(\"Filtro9.csv\")"
      ],
      "metadata": {
        "id": "psYx2RkJCNO5"
      },
      "execution_count": null,
      "outputs": []
    }
  ]
}